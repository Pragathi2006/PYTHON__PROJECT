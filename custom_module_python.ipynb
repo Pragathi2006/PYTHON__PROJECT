{
 "cells": [
  {
   "cell_type": "code",
   "execution_count": 25,
   "id": "8b22dd2f-321f-47ab-83b9-33700a033ffe",
   "metadata": {},
   "outputs": [
    {
     "name": "stdout",
     "output_type": "stream",
     "text": [
      "45\n"
     ]
    }
   ],
   "source": [
    "import python_module\n",
    "python_module.abc()"
   ]
  },
  {
   "cell_type": "code",
   "execution_count": 27,
   "id": "d0ab080f-374d-4897-a846-d5efe30f82f6",
   "metadata": {},
   "outputs": [
    {
     "data": {
      "text/plain": [
       "24"
      ]
     },
     "execution_count": 27,
     "metadata": {},
     "output_type": "execute_result"
    }
   ],
   "source": [
    "import python_module\n",
    "python_module.xyz()"
   ]
  },
  {
   "cell_type": "code",
   "execution_count": 29,
   "id": "a6ba0e14-b0c4-41d2-9890-54652739f8a0",
   "metadata": {},
   "outputs": [
    {
     "data": {
      "text/plain": [
       "21"
      ]
     },
     "execution_count": 29,
     "metadata": {},
     "output_type": "execute_result"
    }
   ],
   "source": [
    "import python_module\n",
    "python_module.demo()"
   ]
  },
  {
   "cell_type": "code",
   "execution_count": 31,
   "id": "702d67ad-b8b1-4205-89ec-667ee71dbd50",
   "metadata": {},
   "outputs": [
    {
     "name": "stdout",
     "output_type": "stream",
     "text": [
      "120\n"
     ]
    }
   ],
   "source": [
    "import python_module\n",
    "python_module.factor(5)"
   ]
  },
  {
   "cell_type": "code",
   "execution_count": 33,
   "id": "276cbb5c-ad13-4d12-a0bb-ae46b627ea6c",
   "metadata": {},
   "outputs": [
    {
     "name": "stdout",
     "output_type": "stream",
     "text": [
      "0 1 1 2 3 5 8 13 21 34 55 89 "
     ]
    }
   ],
   "source": [
    "import python_module\n",
    "python_module.fib(12)"
   ]
  },
  {
   "cell_type": "code",
   "execution_count": 37,
   "id": "c3b76190-2495-48c1-962e-d8e9cdbdc3e8",
   "metadata": {},
   "outputs": [
    {
     "name": "stdout",
     "output_type": "stream",
     "text": [
      "it is a palindrome\n"
     ]
    }
   ],
   "source": [
    "import python_module\n",
    "python_module.palindrome(\"madam\")"
   ]
  },
  {
   "cell_type": "code",
   "execution_count": 39,
   "id": "9232574e-c2f3-4b07-8dcf-6c30e1b6c4c3",
   "metadata": {},
   "outputs": [
    {
     "data": {
      "text/plain": [
       "12"
      ]
     },
     "execution_count": 39,
     "metadata": {},
     "output_type": "execute_result"
    }
   ],
   "source": [
    "import python_module\n",
    "python_module.hcf(36,60)"
   ]
  },
  {
   "cell_type": "code",
   "execution_count": 3,
   "id": "8a911f69-3935-4bcd-b77b-445fb9f3e9ad",
   "metadata": {},
   "outputs": [
    {
     "name": "stdin",
     "output_type": "stream",
     "text": [
      "enter the number 6\n",
      "enter the number 5\n",
      "enter the number 4\n"
     ]
    },
    {
     "name": "stdout",
     "output_type": "stream",
     "text": [
      "x is greater\n"
     ]
    }
   ],
   "source": [
    "import python_module\n",
    "python_module.maximum()"
   ]
  },
  {
   "cell_type": "code",
   "execution_count": null,
   "id": "ac9d9a3d-3388-454a-899b-585d2218273c",
   "metadata": {},
   "outputs": [],
   "source": []
  }
 ],
 "metadata": {
  "kernelspec": {
   "display_name": "Python 3 (ipykernel)",
   "language": "python",
   "name": "python3"
  },
  "language_info": {
   "codemirror_mode": {
    "name": "ipython",
    "version": 3
   },
   "file_extension": ".py",
   "mimetype": "text/x-python",
   "name": "python",
   "nbconvert_exporter": "python",
   "pygments_lexer": "ipython3",
   "version": "3.12.4"
  }
 },
 "nbformat": 4,
 "nbformat_minor": 5
}
